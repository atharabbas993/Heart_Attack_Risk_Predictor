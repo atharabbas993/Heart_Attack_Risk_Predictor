{
  "nbformat": 4,
  "nbformat_minor": 0,
  "metadata": {
    "colab": {
      "private_outputs": true,
      "provenance": [],
      "gpuType": "T4",
      "authorship_tag": "ABX9TyOzM819+LIoQc6o6r6ORYQ/",
      "include_colab_link": true
    },
    "kernelspec": {
      "name": "python3",
      "display_name": "Python 3"
    },
    "language_info": {
      "name": "python"
    },
    "accelerator": "GPU"
  },
  "cells": [
    {
      "cell_type": "markdown",
      "metadata": {
        "id": "view-in-github",
        "colab_type": "text"
      },
      "source": [
        "<a href=\"https://colab.research.google.com/github/atharabbas993/Heart_Attack_Risk_Predictor/blob/main/Heart_Attack_Risk_Predictor.ipynb\" target=\"_parent\"><img src=\"https://colab.research.google.com/assets/colab-badge.svg\" alt=\"Open In Colab\"/></a>"
      ]
    },
    {
      "cell_type": "markdown",
      "source": [
        "# Import Libraries"
      ],
      "metadata": {
        "id": "DA8-udzeI1QD"
      }
    },
    {
      "cell_type": "code",
      "source": [
        "import numpy as np\n",
        "\n",
        "import pandas as pd\n",
        "\n",
        "import matplotlib.pyplot as plt"
      ],
      "metadata": {
        "id": "-sEdnIWTI3b-"
      },
      "execution_count": null,
      "outputs": []
    },
    {
      "cell_type": "markdown",
      "source": [
        "#Load Dataset"
      ],
      "metadata": {
        "id": "t3tCSu0yJAEg"
      }
    },
    {
      "cell_type": "code",
      "source": [
        "data_frame = pd.read_csv('heart_attack_prediction_dataset.csv')"
      ],
      "metadata": {
        "id": "1zKUpdrhI5mG"
      },
      "execution_count": null,
      "outputs": []
    },
    {
      "cell_type": "markdown",
      "source": [
        "#Exploratory Data Analysis(EDA)"
      ],
      "metadata": {
        "id": "inXATvVxJl46"
      }
    },
    {
      "cell_type": "code",
      "source": [
        "#take 5 random samples from dataset this is a good aproach\n",
        "\n",
        "data_frame.sample(5)"
      ],
      "metadata": {
        "id": "SKlU6S0-Jsgr"
      },
      "execution_count": null,
      "outputs": []
    },
    {
      "cell_type": "code",
      "source": [
        "data_frame.info()"
      ],
      "metadata": {
        "id": "fbxsCOpnJ7i3"
      },
      "execution_count": null,
      "outputs": []
    },
    {
      "cell_type": "code",
      "source": [
        "data_frame['Sex'].value_counts()"
      ],
      "metadata": {
        "id": "1e9RMcrZJ9In"
      },
      "execution_count": null,
      "outputs": []
    },
    {
      "cell_type": "code",
      "source": [
        "data_frame['Country'].unique()"
      ],
      "metadata": {
        "id": "rjmhZDlkKH02"
      },
      "execution_count": null,
      "outputs": []
    },
    {
      "cell_type": "code",
      "source": [
        "data_frame['Country'].value_counts()"
      ],
      "metadata": {
        "id": "uRvM3I-lKXgM"
      },
      "execution_count": null,
      "outputs": []
    },
    {
      "cell_type": "code",
      "source": [
        "data_frame.duplicated().sum()"
      ],
      "metadata": {
        "id": "gRJoKjvOKeus"
      },
      "execution_count": null,
      "outputs": []
    },
    {
      "cell_type": "code",
      "source": [
        "data_frame.isnull().sum()"
      ],
      "metadata": {
        "id": "iscE7TomLA-r"
      },
      "execution_count": null,
      "outputs": []
    },
    {
      "cell_type": "code",
      "source": [
        "data_frame.head(2)"
      ],
      "metadata": {
        "id": "cFGkVykULF1t"
      },
      "execution_count": null,
      "outputs": []
    },
    {
      "cell_type": "code",
      "source": [
        "data_frame['Diet'].unique()"
      ],
      "metadata": {
        "id": "mKd4K2pYMw4j"
      },
      "execution_count": null,
      "outputs": []
    },
    {
      "cell_type": "code",
      "source": [
        "data_frame['Heart Attack Risk'].unique()"
      ],
      "metadata": {
        "id": "5SG44ySDU_7u"
      },
      "execution_count": null,
      "outputs": []
    },
    {
      "cell_type": "markdown",
      "source": [
        "#Drop Unecessary Columns"
      ],
      "metadata": {
        "id": "qgH-Drg1LJlu"
      }
    },
    {
      "cell_type": "code",
      "source": [
        "data_frame.drop(columns=['Patient ID', 'Income', 'Country', 'Continent', 'Hemisphere'], inplace =True)"
      ],
      "metadata": {
        "id": "78gglvYmLL-0"
      },
      "execution_count": null,
      "outputs": []
    },
    {
      "cell_type": "code",
      "source": [
        "data_frame.head(2)"
      ],
      "metadata": {
        "id": "j4DDPNkiMlLf"
      },
      "execution_count": null,
      "outputs": []
    },
    {
      "cell_type": "code",
      "source": [
        "data_frame[['Systolic', 'Diastolic']] = data_frame['Blood Pressure'].str.split('/', expand=True)\n",
        "\n",
        "data_frame['Systolic'] = pd.to_numeric(data_frame['Systolic'])\n",
        "\n",
        "data_frame['Diastolic'] = pd.to_numeric(data_frame['Diastolic'])"
      ],
      "metadata": {
        "id": "3nsUZ_XYPBA1"
      },
      "execution_count": null,
      "outputs": []
    },
    {
      "cell_type": "code",
      "source": [
        "data_frame.drop(columns=['Blood Pressure'], inplace=True)"
      ],
      "metadata": {
        "id": "BtWTSx3-QFHn"
      },
      "execution_count": null,
      "outputs": []
    },
    {
      "cell_type": "markdown",
      "source": [
        "# One Hot Encoding"
      ],
      "metadata": {
        "id": "K4kInEQLOmKy"
      }
    },
    {
      "cell_type": "code",
      "source": [
        "data_frame = pd.get_dummies(data_frame, columns=['Sex','Diet',], drop_first=True)\n",
        "\n",
        "data_frame"
      ],
      "metadata": {
        "id": "7JEzeNMLOoS6"
      },
      "execution_count": null,
      "outputs": []
    },
    {
      "cell_type": "markdown",
      "source": [
        "# Create Input/Output Features"
      ],
      "metadata": {
        "id": "Q1-8jT2NRKBc"
      }
    },
    {
      "cell_type": "code",
      "source": [
        "X = data_frame.drop(columns=['Heart Attack Risk'])\n",
        "y = data_frame['Heart Attack Risk']"
      ],
      "metadata": {
        "id": "EZIBdNNMRNtA"
      },
      "execution_count": null,
      "outputs": []
    },
    {
      "cell_type": "markdown",
      "source": [
        "# Split Dataset"
      ],
      "metadata": {
        "id": "hODQz0-DRpWZ"
      }
    },
    {
      "cell_type": "code",
      "source": [
        "from sklearn.model_selection import train_test_split\n",
        "\n",
        "X_train, X_test, y_train, y_test = train_test_split(X, y, test_size=0.2, random_state=42)"
      ],
      "metadata": {
        "id": "C5XIURllRsff"
      },
      "execution_count": null,
      "outputs": []
    },
    {
      "cell_type": "code",
      "source": [
        "X_train.shape"
      ],
      "metadata": {
        "id": "iEGFp2q1SDAJ"
      },
      "execution_count": null,
      "outputs": []
    },
    {
      "cell_type": "code",
      "source": [
        "y_train.shape"
      ],
      "metadata": {
        "id": "6SIqjIAvSKsZ"
      },
      "execution_count": null,
      "outputs": []
    },
    {
      "cell_type": "code",
      "source": [
        "X_test.shape"
      ],
      "metadata": {
        "id": "xZ57UvTMSNa0"
      },
      "execution_count": null,
      "outputs": []
    },
    {
      "cell_type": "code",
      "source": [
        "y_test.shape"
      ],
      "metadata": {
        "id": "P2Qc1DZBSVgP"
      },
      "execution_count": null,
      "outputs": []
    },
    {
      "cell_type": "markdown",
      "source": [
        "# Feature Scaling"
      ],
      "metadata": {
        "id": "QpTmlf80S1uB"
      }
    },
    {
      "cell_type": "code",
      "source": [
        "from sklearn.preprocessing import   MinMaxScaler\n",
        "\n",
        "\n",
        "scaler = MinMaxScaler()\n",
        "\n",
        "X_train = scaler.fit_transform(X_train)\n",
        "\n",
        "X_test = scaler.transform(X_test)"
      ],
      "metadata": {
        "id": "yLUVL7-KS_KU"
      },
      "execution_count": null,
      "outputs": []
    },
    {
      "cell_type": "markdown",
      "source": [
        "#Import Libraries"
      ],
      "metadata": {
        "id": "4eB62K4NTurZ"
      }
    },
    {
      "cell_type": "code",
      "source": [
        "import tensorflow as tf\n",
        "\n",
        "from tensorflow import keras\n",
        "\n",
        "from keras import Sequential\n",
        "\n",
        "from keras.layers import Dense, BatchNormalization\n",
        "\n",
        "from keras.callbacks import EarlyStopping"
      ],
      "metadata": {
        "id": "vbm82SXDTw8j"
      },
      "execution_count": null,
      "outputs": []
    },
    {
      "cell_type": "code",
      "source": [
        "early_stopping = EarlyStopping(monitor='val_loss', patience=5, restore_best_weights=True, verbose=1)"
      ],
      "metadata": {
        "id": "vORyJQXeZMur"
      },
      "execution_count": null,
      "outputs": []
    },
    {
      "cell_type": "markdown",
      "source": [
        "#Create ANN layers"
      ],
      "metadata": {
        "id": "Vp2Yvt0tUHrL"
      }
    },
    {
      "cell_type": "code",
      "source": [
        "model = Sequential()\n",
        "\n",
        "\n",
        "model.add(Dense(units=256, activation='relu', input_dim=X_train.shape[1]))\n",
        "BatchNormalization\n",
        "\n",
        "model.add(Dense(units=128, activation='relu'))\n",
        "BatchNormalization\n",
        "\n",
        "model.add(Dense(units=64, activation=r'relu'))\n",
        "\n",
        "\n",
        "model.add(Dense(units=32, activation='relu'))\n",
        "BatchNormalization\n",
        "\n",
        "\n",
        "model.add(Dense(units=16, activation='relu'))\n",
        "BatchNormalization\n",
        "\n",
        "\n",
        "model.add(Dense(units=8, activation='relu'))\n",
        "BatchNormalization\n",
        "\n",
        "\n",
        "\n",
        "model.add(Dense(units=1, activation='sigmoid'))"
      ],
      "metadata": {
        "id": "UzzHqSF4UFfR"
      },
      "execution_count": null,
      "outputs": []
    },
    {
      "cell_type": "markdown",
      "source": [
        "# Model Summary"
      ],
      "metadata": {
        "id": "vtv0DfnLVcol"
      }
    },
    {
      "cell_type": "code",
      "source": [
        "\n",
        "model.summary()"
      ],
      "metadata": {
        "id": "WbLtMNY3Uf4G"
      },
      "execution_count": null,
      "outputs": []
    },
    {
      "cell_type": "markdown",
      "source": [
        "#Compile Model"
      ],
      "metadata": {
        "id": "Hz34dV7sVjlD"
      }
    },
    {
      "cell_type": "code",
      "source": [
        "model.compile(optimizer='adam', loss='binary_crossentropy', metrics=['accuracy'])"
      ],
      "metadata": {
        "id": "5FV1z1m3VmGa"
      },
      "execution_count": null,
      "outputs": []
    },
    {
      "cell_type": "code",
      "source": [],
      "metadata": {
        "id": "T0w4cio5Y8Fe"
      },
      "execution_count": null,
      "outputs": []
    },
    {
      "cell_type": "markdown",
      "source": [
        "# Fit model"
      ],
      "metadata": {
        "id": "6saFujayV-eQ"
      }
    },
    {
      "cell_type": "code",
      "source": [
        "history = model.fit(X_train, y_train, batch_size=32, epochs=100, validation_data=(X_test, y_test), callbacks=[early_stopping])"
      ],
      "metadata": {
        "id": "-4PWBZ55V9LS"
      },
      "execution_count": null,
      "outputs": []
    },
    {
      "cell_type": "markdown",
      "source": [
        "# Prediction"
      ],
      "metadata": {
        "id": "PQAV4tfZZ9Gn"
      }
    },
    {
      "cell_type": "code",
      "source": [
        "predic = model.predict(X_test)\n",
        "\n",
        "print(predic)"
      ],
      "metadata": {
        "id": "qykVEJWMZ_G5"
      },
      "execution_count": null,
      "outputs": []
    },
    {
      "cell_type": "code",
      "source": [
        "plt.plot(history.history['accuracy'])\n",
        "plt.plot(history.history['val_accuracy'])\n",
        "plt.title('Model Accuracy')\n",
        "plt.ylabel('Accuracy')\n",
        "plt.xlabel('Epoch')\n",
        "plt.legend(['Train', 'Test'], loc='upper left')\n",
        "plt"
      ],
      "metadata": {
        "id": "gJ2mLb6IaA7n"
      },
      "execution_count": null,
      "outputs": []
    },
    {
      "cell_type": "code",
      "source": [
        "plt.plot(history.history['loss'])\n",
        "plt.plot(history.history['val_loss'])\n",
        "plt.title('Model Loss')\n",
        "plt.ylabel('Loss')\n",
        "plt.xlabel('Epoch')\n",
        "plt.legend(['Train', 'Test'], loc='upper left')\n",
        "plt"
      ],
      "metadata": {
        "id": "GXuU2WpHaubu"
      },
      "execution_count": null,
      "outputs": []
    },
    {
      "cell_type": "markdown",
      "source": [
        "#Accuracy"
      ],
      "metadata": {
        "id": "hk5flFBda7pr"
      }
    },
    {
      "cell_type": "code",
      "source": [
        "from sklearn.metrics import accuracy_score\n",
        "\n",
        "accuracy = accuracy_score(y_test, predic.round())"
      ],
      "metadata": {
        "id": "RkzPYKaKbAUp"
      },
      "execution_count": null,
      "outputs": []
    }
  ]
}